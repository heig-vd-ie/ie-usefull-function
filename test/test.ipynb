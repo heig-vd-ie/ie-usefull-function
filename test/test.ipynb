{
 "cells": [
  {
   "cell_type": "code",
   "execution_count": 1,
   "metadata": {},
   "outputs": [],
   "source": [
    "from shapely import from_wkt\n",
    "import polars as pl\n",
    "from polars import col as c\n",
    "from shapely.geometry import Point, Polygon, MultiPolygon, MultiLineString\n",
    "from shapely import set_precision, extract_unique_points\n",
    "from shapely_function import segment_list_from_multilinestring, shape_list_to_wkt_list, multipoint_from_multilinestring\n",
    "from polars_shapely_function import get_linestring_boundaries_col, get_multigeometry_from_col, shape_intersect_shape_col\n",
    "from shapely.geometry import LineString, MultiLineString, MultiPoint\n",
    "from networkx_function import generate_nx_edge, highlight_connected_edges\n",
    "import networkx as nx"
   ]
  },
  {
   "cell_type": "code",
   "execution_count": null,
   "metadata": {},
   "outputs": [],
   "source": [
    "from shapely.ops import nearest_points\n",
    "\n",
    "\n",
    "linestrings_str = [\n",
    "    LineString([(0, 0), (1, 1), (2, 2)]),\n",
    "    LineString([(2, 3), (4, 4), (5, 5)]),\n",
    "    LineString([(2, 3), (7, 7), (8, 8)]),\n",
    "    LineString([(9, 9), (10, 10), (11, 11)]),\n",
    "    LineString([(12, 52), (13, 13), (14, 14)]),\n",
    "    LineString([(15, 15), (12, 52), (17, 17)]),\n",
    "    LineString([(18, 18), (19, 19), (20, 20)]),\n",
    "    LineString([(21, 21), (27, 22), (23, 23)]),\n",
    "    LineString([(24, 24), (25, 25), (26, 26)]),\n",
    "    LineString([(27, 27), (28, 28), (27, 22)])\n",
    "]\n",
    "\n",
    "def generate_and_connect_segment_from_linestring_list(linestring_list: list[LineString]) -> list[LineString]:\n",
    "\n",
    "    segment_list: list[LineString] = segment_list_from_multilinestring(MultiLineString(linestring_list))\n",
    "\n",
    "    segment_pl: pl.DataFrame  = pl.DataFrame({\n",
    "        \"geometry\" : shape_list_to_wkt_list(segment_list) # type: ignore\n",
    "        }).with_columns(\n",
    "            c(\"geometry\").pipe(get_linestring_boundaries_col).alias(\"node_id\"),\n",
    "            c(\"geometry\").pipe(get_linestring_boundaries_col).alias(\"edge_id\")\n",
    "            .list.to_struct(fields=[\"v_of_edge\", \"u_of_edge\"])\n",
    "        ).unnest(\"edge_id\")\n",
    "        \n",
    "    nx_graph = nx.Graph()\n",
    "    _ = segment_pl.with_columns(\n",
    "            pl.struct(\"v_of_edge\", \"u_of_edge\", \"geometry\").pipe(generate_nx_edge, nx_graph= nx_graph)\n",
    "        )  \n",
    "\n",
    "    if nx.is_connected(nx_graph):\n",
    "        return segment_list  \n",
    "\n",
    "    connected_edge: pl.DataFrame = highlight_connected_edges(nx_graph=nx_graph)\n",
    "\n",
    "    graph_connected: list[int] = []\n",
    "    for graph_id in connected_edge[\"graph_id\"].unique():\n",
    "        if graph_id not in graph_connected:\n",
    "            if graph_connected:\n",
    "                graph_id_to_check: list[int] = graph_connected\n",
    "            else:\n",
    "                graph_id_to_check: list[int] = connected_edge.filter(c(\"graph_id\") != graph_id)[\"graph_id\"].unique().to_list()\n",
    "                \n",
    "            point_to_connect: MultiPoint = multipoint_from_multilinestring(\n",
    "                get_multigeometry_from_col(connected_edge.filter(c(\"graph_id\") == graph_id))) # type: ignore\n",
    "            point_to_check: MultiPoint = multipoint_from_multilinestring(\n",
    "                get_multigeometry_from_col(connected_edge.filter(c(\"graph_id\").is_in(graph_id_to_check))) # type: ignore\n",
    "            )\n",
    "\n",
    "            new_segment_points = nearest_points(point_to_connect, point_to_check)\n",
    "                \n",
    "            graph_connected.extend(\n",
    "                connected_edge\n",
    "                .filter(c(\"geometry\").pipe(shape_intersect_shape_col, geometry=MultiPoint(new_segment_points)))\n",
    "                [\"graph_id\"].unique().to_list()\n",
    "            )\n",
    "            segment_list.append(LineString(new_segment_points))\n",
    "    return segment_list\n"
   ]
  },
  {
   "cell_type": "code",
   "execution_count": 12,
   "metadata": {},
   "outputs": [
    {
     "data": {
      "text/plain": [
       "[<LINESTRING (0 0, 1 1)>,\n",
       " <LINESTRING (1 1, 2 2)>,\n",
       " <LINESTRING (2 3, 4 4)>,\n",
       " <LINESTRING (4 4, 5 5)>,\n",
       " <LINESTRING (2 3, 7 7)>,\n",
       " <LINESTRING (7 7, 8 8)>,\n",
       " <LINESTRING (9 9, 10 10)>,\n",
       " <LINESTRING (10 10, 11 11)>,\n",
       " <LINESTRING (12 52, 13 13)>,\n",
       " <LINESTRING (13 13, 14 14)>,\n",
       " <LINESTRING (15 15, 12 52)>,\n",
       " <LINESTRING (12 52, 17 17)>,\n",
       " <LINESTRING (18 18, 19 19)>,\n",
       " <LINESTRING (19 19, 20 20)>,\n",
       " <LINESTRING (21 21, 27 22)>,\n",
       " <LINESTRING (27 22, 23 23)>,\n",
       " <LINESTRING (24 24, 25 25)>,\n",
       " <LINESTRING (25 25, 26 26)>,\n",
       " <LINESTRING (27 27, 28 28)>,\n",
       " <LINESTRING (28 28, 27 22)>,\n",
       " <LINESTRING (2 2, 2 3)>,\n",
       " <LINESTRING (9 9, 8 8)>,\n",
       " <LINESTRING (13 13, 11 11)>,\n",
       " <LINESTRING (18 18, 17 17)>,\n",
       " <LINESTRING (21 21, 20 20)>,\n",
       " <LINESTRING (24 24, 23 23)>]"
      ]
     },
     "execution_count": 12,
     "metadata": {},
     "output_type": "execute_result"
    }
   ],
   "source": [
    "segment_list"
   ]
  },
  {
   "cell_type": "code",
   "execution_count": 11,
   "metadata": {},
   "outputs": [
    {
     "data": {
      "image/svg+xml": [
       "<svg xmlns=\"http://www.w3.org/2000/svg\" xmlns:xlink=\"http://www.w3.org/1999/xlink\" width=\"100.0\" height=\"100.0\" viewBox=\"-2.08 -2.08 32.16 56.16\" preserveAspectRatio=\"xMinYMin meet\"><g transform=\"matrix(1,0,0,-1,0,52.0)\"><g><polyline fill=\"none\" stroke=\"#66cc99\" stroke-width=\"1.1232\" points=\"0.0,0.0 1.0,1.0\" opacity=\"0.8\" /><polyline fill=\"none\" stroke=\"#66cc99\" stroke-width=\"1.1232\" points=\"1.0,1.0 2.0,2.0\" opacity=\"0.8\" /><polyline fill=\"none\" stroke=\"#66cc99\" stroke-width=\"1.1232\" points=\"2.0,3.0 4.0,4.0\" opacity=\"0.8\" /><polyline fill=\"none\" stroke=\"#66cc99\" stroke-width=\"1.1232\" points=\"4.0,4.0 5.0,5.0\" opacity=\"0.8\" /><polyline fill=\"none\" stroke=\"#66cc99\" stroke-width=\"1.1232\" points=\"2.0,3.0 7.0,7.0\" opacity=\"0.8\" /><polyline fill=\"none\" stroke=\"#66cc99\" stroke-width=\"1.1232\" points=\"7.0,7.0 8.0,8.0\" opacity=\"0.8\" /><polyline fill=\"none\" stroke=\"#66cc99\" stroke-width=\"1.1232\" points=\"9.0,9.0 10.0,10.0\" opacity=\"0.8\" /><polyline fill=\"none\" stroke=\"#66cc99\" stroke-width=\"1.1232\" points=\"10.0,10.0 11.0,11.0\" opacity=\"0.8\" /><polyline fill=\"none\" stroke=\"#66cc99\" stroke-width=\"1.1232\" points=\"12.0,52.0 13.0,13.0\" opacity=\"0.8\" /><polyline fill=\"none\" stroke=\"#66cc99\" stroke-width=\"1.1232\" points=\"13.0,13.0 14.0,14.0\" opacity=\"0.8\" /><polyline fill=\"none\" stroke=\"#66cc99\" stroke-width=\"1.1232\" points=\"15.0,15.0 12.0,52.0\" opacity=\"0.8\" /><polyline fill=\"none\" stroke=\"#66cc99\" stroke-width=\"1.1232\" points=\"12.0,52.0 17.0,17.0\" opacity=\"0.8\" /><polyline fill=\"none\" stroke=\"#66cc99\" stroke-width=\"1.1232\" points=\"18.0,18.0 19.0,19.0\" opacity=\"0.8\" /><polyline fill=\"none\" stroke=\"#66cc99\" stroke-width=\"1.1232\" points=\"19.0,19.0 20.0,20.0\" opacity=\"0.8\" /><polyline fill=\"none\" stroke=\"#66cc99\" stroke-width=\"1.1232\" points=\"21.0,21.0 27.0,22.0\" opacity=\"0.8\" /><polyline fill=\"none\" stroke=\"#66cc99\" stroke-width=\"1.1232\" points=\"27.0,22.0 23.0,23.0\" opacity=\"0.8\" /><polyline fill=\"none\" stroke=\"#66cc99\" stroke-width=\"1.1232\" points=\"24.0,24.0 25.0,25.0\" opacity=\"0.8\" /><polyline fill=\"none\" stroke=\"#66cc99\" stroke-width=\"1.1232\" points=\"25.0,25.0 26.0,26.0\" opacity=\"0.8\" /><polyline fill=\"none\" stroke=\"#66cc99\" stroke-width=\"1.1232\" points=\"27.0,27.0 28.0,28.0\" opacity=\"0.8\" /><polyline fill=\"none\" stroke=\"#66cc99\" stroke-width=\"1.1232\" points=\"28.0,28.0 27.0,22.0\" opacity=\"0.8\" /><polyline fill=\"none\" stroke=\"#66cc99\" stroke-width=\"1.1232\" points=\"2.0,2.0 2.0,3.0\" opacity=\"0.8\" /><polyline fill=\"none\" stroke=\"#66cc99\" stroke-width=\"1.1232\" points=\"9.0,9.0 8.0,8.0\" opacity=\"0.8\" /><polyline fill=\"none\" stroke=\"#66cc99\" stroke-width=\"1.1232\" points=\"13.0,13.0 11.0,11.0\" opacity=\"0.8\" /><polyline fill=\"none\" stroke=\"#66cc99\" stroke-width=\"1.1232\" points=\"18.0,18.0 17.0,17.0\" opacity=\"0.8\" /><polyline fill=\"none\" stroke=\"#66cc99\" stroke-width=\"1.1232\" points=\"21.0,21.0 20.0,20.0\" opacity=\"0.8\" /><polyline fill=\"none\" stroke=\"#66cc99\" stroke-width=\"1.1232\" points=\"24.0,24.0 23.0,23.0\" opacity=\"0.8\" /></g></g></svg>"
      ],
      "text/plain": [
       "<MULTILINESTRING ((0 0, 1 1), (1 1, 2 2), (2 3, 4 4), (4 4, 5 5), (2 3, 7 7)...>"
      ]
     },
     "execution_count": 11,
     "metadata": {},
     "output_type": "execute_result"
    }
   ],
   "source": [
    "MultiLineString(segment_list)"
   ]
  },
  {
   "cell_type": "code",
   "execution_count": 7,
   "metadata": {},
   "outputs": [
    {
     "name": "stdout",
     "output_type": "stream",
     "text": [
      "0\n",
      "1\n",
      "2\n",
      "3\n",
      "4\n",
      "5\n",
      "6\n"
     ]
    }
   ],
   "source": [
    "\n"
   ]
  },
  {
   "cell_type": "code",
   "execution_count": 9,
   "metadata": {},
   "outputs": [
    {
     "data": {
      "text/plain": [
       "[<LINESTRING (0 0, 1 1)>,\n",
       " <LINESTRING (1 1, 2 2)>,\n",
       " <LINESTRING (2 3, 4 4)>,\n",
       " <LINESTRING (4 4, 5 5)>,\n",
       " <LINESTRING (2 3, 7 7)>,\n",
       " <LINESTRING (7 7, 8 8)>,\n",
       " <LINESTRING (9 9, 10 10)>,\n",
       " <LINESTRING (10 10, 11 11)>,\n",
       " <LINESTRING (12 52, 13 13)>,\n",
       " <LINESTRING (13 13, 14 14)>,\n",
       " <LINESTRING (15 15, 12 52)>,\n",
       " <LINESTRING (12 52, 17 17)>,\n",
       " <LINESTRING (18 18, 19 19)>,\n",
       " <LINESTRING (19 19, 20 20)>,\n",
       " <LINESTRING (21 21, 27 22)>,\n",
       " <LINESTRING (27 22, 23 23)>,\n",
       " <LINESTRING (24 24, 25 25)>,\n",
       " <LINESTRING (25 25, 26 26)>,\n",
       " <LINESTRING (27 27, 28 28)>,\n",
       " <LINESTRING (28 28, 27 22)>]"
      ]
     },
     "execution_count": 9,
     "metadata": {},
     "output_type": "execute_result"
    }
   ],
   "source": [
    "segment_list"
   ]
  },
  {
   "cell_type": "code",
   "execution_count": 8,
   "metadata": {},
   "outputs": [
    {
     "data": {
      "text/plain": [
       "[<LINESTRING (2 2, 2 3)>,\n",
       " <LINESTRING (9 9, 8 8)>,\n",
       " <LINESTRING (13 13, 11 11)>,\n",
       " <LINESTRING (18 18, 17 17)>,\n",
       " <LINESTRING (21 21, 20 20)>,\n",
       " <LINESTRING (24 24, 23 23)>]"
      ]
     },
     "execution_count": 8,
     "metadata": {},
     "output_type": "execute_result"
    }
   ],
   "source": [
    "new_segments"
   ]
  },
  {
   "cell_type": "code",
   "execution_count": null,
   "metadata": {},
   "outputs": [],
   "source": [
    "new_segment"
   ]
  },
  {
   "cell_type": "code",
   "execution_count": 4,
   "metadata": {},
   "outputs": [
    {
     "data": {
      "text/html": [
       "<div><style>\n",
       ".dataframe > thead > tr,\n",
       ".dataframe > tbody > tr {\n",
       "  text-align: right;\n",
       "  white-space: pre-wrap;\n",
       "}\n",
       "</style>\n",
       "<small>shape: (20, 4)</small><table border=\"1\" class=\"dataframe\"><thead><tr><th>graph_id</th><th>u_of_edge</th><th>v_of_edge</th><th>geometry</th></tr><tr><td>i64</td><td>str</td><td>str</td><td>str</td></tr></thead><tbody><tr><td>0</td><td>&quot;POINT (1 1)&quot;</td><td>&quot;POINT (0 0)&quot;</td><td>&quot;LINESTRING (0 0, 1 1)&quot;</td></tr><tr><td>0</td><td>&quot;POINT (1 1)&quot;</td><td>&quot;POINT (2 2)&quot;</td><td>&quot;LINESTRING (1 1, 2 2)&quot;</td></tr><tr><td>1</td><td>&quot;POINT (5 5)&quot;</td><td>&quot;POINT (4 4)&quot;</td><td>&quot;LINESTRING (4 4, 5 5)&quot;</td></tr><tr><td>1</td><td>&quot;POINT (7 7)&quot;</td><td>&quot;POINT (2 3)&quot;</td><td>&quot;LINESTRING (2 3, 7 7)&quot;</td></tr><tr><td>1</td><td>&quot;POINT (7 7)&quot;</td><td>&quot;POINT (8 8)&quot;</td><td>&quot;LINESTRING (7 7, 8 8)&quot;</td></tr><tr><td>&hellip;</td><td>&hellip;</td><td>&hellip;</td><td>&hellip;</td></tr><tr><td>5</td><td>&quot;POINT (28 28)&quot;</td><td>&quot;POINT (27 22)&quot;</td><td>&quot;LINESTRING (28 28, 27 22)&quot;</td></tr><tr><td>5</td><td>&quot;POINT (27 22)&quot;</td><td>&quot;POINT (21 21)&quot;</td><td>&quot;LINESTRING (21 21, 27 22)&quot;</td></tr><tr><td>5</td><td>&quot;POINT (27 22)&quot;</td><td>&quot;POINT (23 23)&quot;</td><td>&quot;LINESTRING (27 22, 23 23)&quot;</td></tr><tr><td>6</td><td>&quot;POINT (24 24)&quot;</td><td>&quot;POINT (25 25)&quot;</td><td>&quot;LINESTRING (24 24, 25 25)&quot;</td></tr><tr><td>6</td><td>&quot;POINT (26 26)&quot;</td><td>&quot;POINT (25 25)&quot;</td><td>&quot;LINESTRING (25 25, 26 26)&quot;</td></tr></tbody></table></div>"
      ],
      "text/plain": [
       "shape: (20, 4)\n",
       "┌──────────┬───────────────┬───────────────┬───────────────────────────┐\n",
       "│ graph_id ┆ u_of_edge     ┆ v_of_edge     ┆ geometry                  │\n",
       "│ ---      ┆ ---           ┆ ---           ┆ ---                       │\n",
       "│ i64      ┆ str           ┆ str           ┆ str                       │\n",
       "╞══════════╪═══════════════╪═══════════════╪═══════════════════════════╡\n",
       "│ 0        ┆ POINT (1 1)   ┆ POINT (0 0)   ┆ LINESTRING (0 0, 1 1)     │\n",
       "│ 0        ┆ POINT (1 1)   ┆ POINT (2 2)   ┆ LINESTRING (1 1, 2 2)     │\n",
       "│ 1        ┆ POINT (5 5)   ┆ POINT (4 4)   ┆ LINESTRING (4 4, 5 5)     │\n",
       "│ 1        ┆ POINT (7 7)   ┆ POINT (2 3)   ┆ LINESTRING (2 3, 7 7)     │\n",
       "│ 1        ┆ POINT (7 7)   ┆ POINT (8 8)   ┆ LINESTRING (7 7, 8 8)     │\n",
       "│ …        ┆ …             ┆ …             ┆ …                         │\n",
       "│ 5        ┆ POINT (28 28) ┆ POINT (27 22) ┆ LINESTRING (28 28, 27 22) │\n",
       "│ 5        ┆ POINT (27 22) ┆ POINT (21 21) ┆ LINESTRING (21 21, 27 22) │\n",
       "│ 5        ┆ POINT (27 22) ┆ POINT (23 23) ┆ LINESTRING (27 22, 23 23) │\n",
       "│ 6        ┆ POINT (24 24) ┆ POINT (25 25) ┆ LINESTRING (24 24, 25 25) │\n",
       "│ 6        ┆ POINT (26 26) ┆ POINT (25 25) ┆ LINESTRING (25 25, 26 26) │\n",
       "└──────────┴───────────────┴───────────────┴───────────────────────────┘"
      ]
     },
     "execution_count": 4,
     "metadata": {},
     "output_type": "execute_result"
    }
   ],
   "source": [
    "highlight_connected_edges(nx_graph)"
   ]
  },
  {
   "cell_type": "code",
   "execution_count": null,
   "metadata": {},
   "outputs": [],
   "source": [
    "\n",
    "\n"
   ]
  },
  {
   "cell_type": "code",
   "execution_count": null,
   "metadata": {},
   "outputs": [],
   "source": []
  },
  {
   "cell_type": "code",
   "execution_count": 12,
   "metadata": {},
   "outputs": [],
   "source": [
    "\n"
   ]
  },
  {
   "cell_type": "code",
   "execution_count": 5,
   "metadata": {},
   "outputs": [
    {
     "name": "stderr",
     "output_type": "stream",
     "text": [
      "thread '<unnamed>' panicked at crates/polars-core/src/series/iterator.rs:84:9:\n",
      "object dtype not supported in Series.iter\n",
      "note: run with `RUST_BACKTRACE=1` environment variable to display a backtrace\n"
     ]
    },
    {
     "ename": "PanicException",
     "evalue": "object dtype not supported in Series.iter",
     "output_type": "error",
     "traceback": [
      "\u001b[0;31m---------------------------------------------------------------------------\u001b[0m",
      "\u001b[0;31mPanicException\u001b[0m                            Traceback (most recent call last)",
      "\u001b[0;32m/tmp/ipykernel_14073/3899084546.py\u001b[0m in \u001b[0;36m?\u001b[0;34m()\u001b[0m\n\u001b[1;32m      1\u001b[0m \u001b[0;31m# Generate a list of lists of points\u001b[0m\u001b[0;34m\u001b[0m\u001b[0;34m\u001b[0m\u001b[0m\n\u001b[1;32m      2\u001b[0m \u001b[0mpoints\u001b[0m \u001b[0;34m=\u001b[0m \u001b[0mpl\u001b[0m\u001b[0;34m.\u001b[0m\u001b[0mDataFrame\u001b[0m\u001b[0;34m(\u001b[0m\u001b[0;34m{\u001b[0m\u001b[0;34m\"geo\"\u001b[0m\u001b[0;34m:\u001b[0m \u001b[0;34m[\u001b[0m\u001b[0;34m[\u001b[0m\u001b[0;34m(\u001b[0m\u001b[0mPoint\u001b[0m\u001b[0;34m(\u001b[0m\u001b[0mx\u001b[0m\u001b[0;34m,\u001b[0m \u001b[0my\u001b[0m\u001b[0;34m)\u001b[0m\u001b[0;34m)\u001b[0m\u001b[0;34m.\u001b[0m\u001b[0mwkt\u001b[0m \u001b[0;32mfor\u001b[0m \u001b[0mx\u001b[0m \u001b[0;32min\u001b[0m \u001b[0mrange\u001b[0m\u001b[0;34m(\u001b[0m\u001b[0;36m3\u001b[0m\u001b[0;34m)\u001b[0m\u001b[0;34m]\u001b[0m \u001b[0;32mfor\u001b[0m \u001b[0my\u001b[0m \u001b[0;32min\u001b[0m \u001b[0mrange\u001b[0m\u001b[0;34m(\u001b[0m\u001b[0;36m3\u001b[0m\u001b[0;34m)\u001b[0m\u001b[0;34m]\u001b[0m\u001b[0;34m}\u001b[0m\u001b[0;34m)\u001b[0m\u001b[0;34m\u001b[0m\u001b[0;34m\u001b[0m\u001b[0m\n\u001b[1;32m      3\u001b[0m \u001b[0;34m\u001b[0m\u001b[0m\n\u001b[0;32m----> 4\u001b[0;31m points.select(\n\u001b[0m\u001b[1;32m      5\u001b[0m     \u001b[0mc\u001b[0m\u001b[0;34m(\u001b[0m\u001b[0;34m\"geo\"\u001b[0m\u001b[0;34m)\u001b[0m\u001b[0;34m.\u001b[0m\u001b[0mlist\u001b[0m\u001b[0;34m.\u001b[0m\u001b[0meval\u001b[0m\u001b[0;34m(\u001b[0m\u001b[0mpl\u001b[0m\u001b[0;34m.\u001b[0m\u001b[0melement\u001b[0m\u001b[0;34m(\u001b[0m\u001b[0;34m)\u001b[0m\u001b[0;34m.\u001b[0m\u001b[0mmap_elements\u001b[0m\u001b[0;34m(\u001b[0m\u001b[0mfrom_wkt\u001b[0m\u001b[0;34m,\u001b[0m \u001b[0mreturn_dtype\u001b[0m\u001b[0;34m=\u001b[0m\u001b[0mpl\u001b[0m\u001b[0;34m.\u001b[0m\u001b[0mObject\u001b[0m\u001b[0;34m)\u001b[0m\u001b[0;34m)\u001b[0m\u001b[0;34m\u001b[0m\u001b[0;34m\u001b[0m\u001b[0m\n\u001b[1;32m      6\u001b[0m \u001b[0;34m)\u001b[0m\u001b[0;34m\u001b[0m\u001b[0;34m\u001b[0m\u001b[0m\n",
      "\u001b[0;32m~/git/utility-functions/.venv/lib/python3.12/site-packages/decorator.py\u001b[0m in \u001b[0;36m?\u001b[0;34m(*args, **kw)\u001b[0m\n\u001b[1;32m    229\u001b[0m         \u001b[0;32mdef\u001b[0m \u001b[0mfun\u001b[0m\u001b[0;34m(\u001b[0m\u001b[0;34m*\u001b[0m\u001b[0margs\u001b[0m\u001b[0;34m,\u001b[0m \u001b[0;34m**\u001b[0m\u001b[0mkw\u001b[0m\u001b[0;34m)\u001b[0m\u001b[0;34m:\u001b[0m\u001b[0;34m\u001b[0m\u001b[0;34m\u001b[0m\u001b[0m\n\u001b[1;32m    230\u001b[0m             \u001b[0;32mif\u001b[0m \u001b[0;32mnot\u001b[0m \u001b[0mkwsyntax\u001b[0m\u001b[0;34m:\u001b[0m\u001b[0;34m\u001b[0m\u001b[0;34m\u001b[0m\u001b[0m\n\u001b[1;32m    231\u001b[0m                 \u001b[0margs\u001b[0m\u001b[0;34m,\u001b[0m \u001b[0mkw\u001b[0m \u001b[0;34m=\u001b[0m \u001b[0mfix\u001b[0m\u001b[0;34m(\u001b[0m\u001b[0margs\u001b[0m\u001b[0;34m,\u001b[0m \u001b[0mkw\u001b[0m\u001b[0;34m,\u001b[0m \u001b[0msig\u001b[0m\u001b[0;34m)\u001b[0m\u001b[0;34m\u001b[0m\u001b[0;34m\u001b[0m\u001b[0m\n\u001b[0;32m--> 232\u001b[0;31m             \u001b[0;32mreturn\u001b[0m \u001b[0mcaller\u001b[0m\u001b[0;34m(\u001b[0m\u001b[0mfunc\u001b[0m\u001b[0;34m,\u001b[0m \u001b[0;34m*\u001b[0m\u001b[0;34m(\u001b[0m\u001b[0mextras\u001b[0m \u001b[0;34m+\u001b[0m \u001b[0margs\u001b[0m\u001b[0;34m)\u001b[0m\u001b[0;34m,\u001b[0m \u001b[0;34m**\u001b[0m\u001b[0mkw\u001b[0m\u001b[0;34m)\u001b[0m\u001b[0;34m\u001b[0m\u001b[0;34m\u001b[0m\u001b[0m\n\u001b[0m",
      "\u001b[0;32m~/git/utility-functions/.venv/lib/python3.12/site-packages/polars/dataframe/frame.py\u001b[0m in \u001b[0;36m?\u001b[0;34m(self)\u001b[0m\n\u001b[1;32m   1203\u001b[0m     \u001b[0;32mdef\u001b[0m \u001b[0m__repr__\u001b[0m\u001b[0;34m(\u001b[0m\u001b[0mself\u001b[0m\u001b[0;34m)\u001b[0m \u001b[0;34m->\u001b[0m \u001b[0mstr\u001b[0m\u001b[0;34m:\u001b[0m\u001b[0;34m\u001b[0m\u001b[0;34m\u001b[0m\u001b[0m\n\u001b[0;32m-> 1204\u001b[0;31m         \u001b[0;32mreturn\u001b[0m \u001b[0mself\u001b[0m\u001b[0;34m.\u001b[0m\u001b[0m__str__\u001b[0m\u001b[0;34m(\u001b[0m\u001b[0;34m)\u001b[0m\u001b[0;34m\u001b[0m\u001b[0;34m\u001b[0m\u001b[0m\n\u001b[0m",
      "\u001b[0;32m~/git/utility-functions/.venv/lib/python3.12/site-packages/polars/dataframe/frame.py\u001b[0m in \u001b[0;36m?\u001b[0;34m(self)\u001b[0m\n\u001b[1;32m   1200\u001b[0m     \u001b[0;32mdef\u001b[0m \u001b[0m__str__\u001b[0m\u001b[0;34m(\u001b[0m\u001b[0mself\u001b[0m\u001b[0;34m)\u001b[0m \u001b[0;34m->\u001b[0m \u001b[0mstr\u001b[0m\u001b[0;34m:\u001b[0m\u001b[0;34m\u001b[0m\u001b[0;34m\u001b[0m\u001b[0m\n\u001b[0;32m-> 1201\u001b[0;31m         \u001b[0;32mreturn\u001b[0m \u001b[0mself\u001b[0m\u001b[0;34m.\u001b[0m\u001b[0m_df\u001b[0m\u001b[0;34m.\u001b[0m\u001b[0mas_str\u001b[0m\u001b[0;34m(\u001b[0m\u001b[0;34m)\u001b[0m\u001b[0;34m\u001b[0m\u001b[0;34m\u001b[0m\u001b[0m\n\u001b[0m",
      "\u001b[0;31mPanicException\u001b[0m: object dtype not supported in Series.iter"
     ]
    }
   ],
   "source": [
    "\n",
    "# Generate a list of lists of points\n",
    "points = pl.DataFrame({\"geo\": [[(Point(x, y)).wkt for x in range(3)] for y in range(3)]})\n",
    "\n",
    "points.select(\n",
    "    c(\"geo\").list.eval(pl.element().map_elements(from_wkt, return_dtype=pl.Object))\n",
    ")"
   ]
  }
 ],
 "metadata": {
  "kernelspec": {
   "display_name": ".venv",
   "language": "python",
   "name": "python3"
  },
  "language_info": {
   "codemirror_mode": {
    "name": "ipython",
    "version": 3
   },
   "file_extension": ".py",
   "mimetype": "text/x-python",
   "name": "python",
   "nbconvert_exporter": "python",
   "pygments_lexer": "ipython3",
   "version": "3.12.7"
  }
 },
 "nbformat": 4,
 "nbformat_minor": 2
}
